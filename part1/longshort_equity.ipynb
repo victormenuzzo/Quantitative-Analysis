{
  "nbformat": 4,
  "nbformat_minor": 0,
  "metadata": {
    "colab": {
      "name": "longshort_equity",
      "provenance": []
    },
    "kernelspec": {
      "name": "python3",
      "display_name": "Python 3"
    }
  },
  "cells": [
    {
      "cell_type": "markdown",
      "metadata": {
        "id": "N7YvPxsM_uBE",
        "colab_type": "text"
      },
      "source": [
        "#Long-Short Equity"
      ]
    },
    {
      "cell_type": "code",
      "metadata": {
        "id": "J53SmsR78ucG",
        "colab_type": "code",
        "colab": {}
      },
      "source": [
        "#if you are using google drive like me\n",
        "from google.colab import drive\n",
        "drive.mount('/content/drive/')"
      ],
      "execution_count": 0,
      "outputs": []
    },
    {
      "cell_type": "code",
      "metadata": {
        "id": "8qoX-yrD8wQ8",
        "colab_type": "code",
        "colab": {}
      },
      "source": [
        "cd \"/content/drive/My Drive/go_beyond/project/project_1\""
      ],
      "execution_count": 0,
      "outputs": []
    },
    {
      "cell_type": "code",
      "metadata": {
        "id": "WWaW4En7815M",
        "colab_type": "code",
        "colab": {}
      },
      "source": [
        "#helper file with functions created in stocks returns analysis\n",
        "%run helper_returns.ipynb"
      ],
      "execution_count": 0,
      "outputs": []
    },
    {
      "cell_type": "code",
      "metadata": {
        "id": "E99EuyyB_lPt",
        "colab_type": "code",
        "colab": {}
      },
      "source": [
        "import pandas as pd\n",
        "import numpy as np\n",
        "import seaborn as sns\n",
        "import matplotlib\n",
        "import matplotlib.pyplot as plt\n",
        "import math\n",
        "\n",
        "#remove pandas warning \n",
        "import pandas.plotting._converter as pandacnv\n",
        "pandacnv.register()"
      ],
      "execution_count": 0,
      "outputs": []
    },
    {
      "cell_type": "markdown",
      "metadata": {
        "id": "fgqE1Hts_rLE",
        "colab_type": "text"
      },
      "source": [
        "##Loading Data "
      ]
    },
    {
      "cell_type": "markdown",
      "metadata": {
        "id": "AyUaHl_X_64g",
        "colab_type": "text"
      },
      "source": [
        "You can see the analysis of this data in stocks returns file. :)\n",
        "\n",
        "All funcitions have been explained [here](https://https://nbviewer.jupyter.org/github/victormenuzzo/Quantitative-Analysis/blob/master/part1/stocks_returns.ipynb)"
      ]
    },
    {
      "cell_type": "code",
      "metadata": {
        "id": "pB-cMShi_pAM",
        "colab_type": "code",
        "colab": {}
      },
      "source": [
        "df = pd.read_csv('eod-quotemedia.csv', parse_dates=['date'], index_col=False)\n",
        "close = df.reset_index().pivot(index='date', columns='ticker', values='adj_close')\n",
        "\n",
        "#resample daily -> monthly\n",
        "df_monthly = resample_prices(close)\n",
        "\n",
        "#raws returns\n",
        "df_rawRet = compute_rawReturn(df_monthly)\n",
        "\n",
        "#logs returns \n",
        "df_logRet = compute_logReturn(df_monthly)"
      ],
      "execution_count": 0,
      "outputs": []
    },
    {
      "cell_type": "markdown",
      "metadata": {
        "id": "yyyRikxIB0Tr",
        "colab_type": "text"
      },
      "source": [
        "##Trading Signal"
      ]
    },
    {
      "cell_type": "code",
      "metadata": {
        "id": "GE_Rafv6Bz2t",
        "colab_type": "code",
        "colab": {}
      },
      "source": [
        ""
      ],
      "execution_count": 0,
      "outputs": []
    }
  ]
}