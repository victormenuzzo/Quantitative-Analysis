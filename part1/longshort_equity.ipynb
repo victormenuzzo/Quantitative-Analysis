{
  "nbformat": 4,
  "nbformat_minor": 0,
  "metadata": {
    "colab": {
      "name": "longshort_equity",
      "provenance": [],
      "toc_visible": true
    },
    "kernelspec": {
      "name": "python3",
      "display_name": "Python 3"
    }
  },
  "cells": [
    {
      "cell_type": "markdown",
      "metadata": {
        "id": "N7YvPxsM_uBE",
        "colab_type": "text"
      },
      "source": [
        "#Long-Short Equity"
      ]
    },
    {
      "cell_type": "code",
      "metadata": {
        "id": "J53SmsR78ucG",
        "colab_type": "code",
        "outputId": "dadbfffa-b562-4171-8c77-16244766582d",
        "colab": {
          "base_uri": "https://localhost:8080/",
          "height": 122
        }
      },
      "source": [
        "#if you are using google drive like me\n",
        "from google.colab import drive\n",
        "drive.mount('/content/drive/')"
      ],
      "execution_count": 0,
      "outputs": [
        {
          "output_type": "stream",
          "text": [
            "Go to this URL in a browser: https://accounts.google.com/o/oauth2/auth?client_id=947318989803-6bn6qk8qdgf4n4g3pfee6491hc0brc4i.apps.googleusercontent.com&redirect_uri=urn%3Aietf%3Awg%3Aoauth%3A2.0%3Aoob&scope=email%20https%3A%2F%2Fwww.googleapis.com%2Fauth%2Fdocs.test%20https%3A%2F%2Fwww.googleapis.com%2Fauth%2Fdrive%20https%3A%2F%2Fwww.googleapis.com%2Fauth%2Fdrive.photos.readonly%20https%3A%2F%2Fwww.googleapis.com%2Fauth%2Fpeopleapi.readonly&response_type=code\n",
            "\n",
            "Enter your authorization code:\n",
            "··········\n",
            "Mounted at /content/drive/\n"
          ],
          "name": "stdout"
        }
      ]
    },
    {
      "cell_type": "code",
      "metadata": {
        "id": "8qoX-yrD8wQ8",
        "colab_type": "code",
        "outputId": "73b7be27-15aa-4be1-979f-794b5b22c8c2",
        "colab": {
          "base_uri": "https://localhost:8080/",
          "height": 34
        }
      },
      "source": [
        "cd \"/content/drive/My Drive/go_beyond/project/project_1\""
      ],
      "execution_count": 0,
      "outputs": [
        {
          "output_type": "stream",
          "text": [
            "/content/drive/My Drive/go_beyond/project/project_1\n"
          ],
          "name": "stdout"
        }
      ]
    },
    {
      "cell_type": "code",
      "metadata": {
        "id": "WWaW4En7815M",
        "colab_type": "code",
        "colab": {}
      },
      "source": [
        "#helper file with functions created in stocks returns analysis\n",
        "%run helper_returns.ipynb"
      ],
      "execution_count": 0,
      "outputs": []
    },
    {
      "cell_type": "code",
      "metadata": {
        "id": "E99EuyyB_lPt",
        "colab_type": "code",
        "colab": {}
      },
      "source": [
        "import pandas as pd\n",
        "import numpy as np\n",
        "import seaborn as sns\n",
        "import matplotlib\n",
        "import matplotlib.pyplot as plt\n",
        "import math\n",
        "\n",
        "#remove pandas warning \n",
        "import pandas.plotting._converter as pandacnv\n",
        "pandacnv.register()"
      ],
      "execution_count": 0,
      "outputs": []
    },
    {
      "cell_type": "markdown",
      "metadata": {
        "id": "fgqE1Hts_rLE",
        "colab_type": "text"
      },
      "source": [
        "##Loading Data "
      ]
    },
    {
      "cell_type": "markdown",
      "metadata": {
        "id": "AyUaHl_X_64g",
        "colab_type": "text"
      },
      "source": [
        "You can see the analysis of this data in stocks returns file. :)\n",
        "\n",
        "All funcitions have been explained [here](https://https://nbviewer.jupyter.org/github/victormenuzzo/Quantitative-Analysis/blob/master/part1/stocks_returns.ipynb)"
      ]
    },
    {
      "cell_type": "code",
      "metadata": {
        "id": "pB-cMShi_pAM",
        "colab_type": "code",
        "colab": {}
      },
      "source": [
        "df = pd.read_csv('eod-quotemedia.csv', parse_dates=['date'], index_col=False)\n",
        "close = df.reset_index().pivot(index='date', columns='ticker', values='adj_close')\n",
        "\n",
        "#resample daily -> monthly\n",
        "df_monthly = resample_prices(close)\n",
        "\n",
        "#raws returns\n",
        "df_rawRet = compute_rawReturn(df_monthly)\n",
        "\n",
        "#logs returns \n",
        "df_logRet = compute_logReturn(df_monthly)"
      ],
      "execution_count": 0,
      "outputs": []
    },
    {
      "cell_type": "markdown",
      "metadata": {
        "id": "yyyRikxIB0Tr",
        "colab_type": "text"
      },
      "source": [
        "##Trading Signal"
      ]
    },
    {
      "cell_type": "markdown",
      "metadata": {
        "id": "VczNOBXK_34f",
        "colab_type": "text"
      },
      "source": [
        "First of all, we need to know what is a trading signal. And [investopedia](https://www.investopedia.com/terms/t/trade-signal.asp) will explain to us: P\n",
        "\n",
        "\n",
        ">A trade signal is a trigger for action, either to buy or sell a security or other asset, generated by analysis. That analysis can be human generated using technical indicators, or it can be generated using mathematical algorithms based on market action, possibly in combination with other market factors such as economic indicators.\n",
        "\n",
        "\n",
        "---\n",
        "\n",
        "\n",
        "We will create a simple trading signal: \n",
        "For each month, rank the stocks from the highest to the lowest. \n",
        "* Top performing stocks -> Long portfolio\n",
        "* Bottom performing stocks -> Short portfolio\n"
      ]
    },
    {
      "cell_type": "code",
      "metadata": {
        "id": "GE_Rafv6Bz2t",
        "colab_type": "code",
        "colab": {}
      },
      "source": [
        "def top_stocks(df, n):\n",
        "  df_top = df.copy()\n",
        "  df_top[:] = 0\n",
        "\n",
        "  for date, month_return in df.iterrows():\n",
        "    #nlargest: Return the first n rows ordered by columns in descending order.\n",
        "    df_top.loc[date, month_return.nlargest(n).index] = 1\n",
        "  return df_top"
      ],
      "execution_count": 0,
      "outputs": []
    },
    {
      "cell_type": "code",
      "metadata": {
        "id": "CNC2_bvKDyes",
        "colab_type": "code",
        "colab": {}
      },
      "source": [
        "#this is our top performing stocks\n",
        "df_top = top_stocks(df_logRet, 3)\n",
        "\n",
        "#if we multiply df_monthly by -1 we get bottom performing\n",
        "df_bottom = top_stocks(df_logRet*-1, 3)"
      ],
      "execution_count": 0,
      "outputs": []
    },
    {
      "cell_type": "markdown",
      "metadata": {
        "id": "XHgTDp8PGUzV",
        "colab_type": "text"
      },
      "source": [
        "Now we can see our Long and Short portfolio"
      ]
    },
    {
      "cell_type": "code",
      "metadata": {
        "id": "P23A9MLED2yo",
        "colab_type": "code",
        "colab": {}
      },
      "source": [
        "def show_LongShort(df, n):\n",
        "  return df.sum().sort_values(ascending=False).index[:n].values.tolist()"
      ],
      "execution_count": 0,
      "outputs": []
    },
    {
      "cell_type": "code",
      "metadata": {
        "id": "m6TAWAD9HB1T",
        "colab_type": "code",
        "colab": {
          "base_uri": "https://localhost:8080/",
          "height": 102
        },
        "outputId": "1eadc189-1b84-44a4-a783-cc6db1ce3611"
      },
      "source": [
        "print('Top Performing: ')\n",
        "print(show_LongShort(df_top, 10))\n",
        "\n",
        "print(20*'-')\n",
        "\n",
        "print('Bottom Performing: ')\n",
        "print(show_LongShort(df_bottom, 10))"
      ],
      "execution_count": 68,
      "outputs": [
        {
          "output_type": "stream",
          "text": [
            "Top Performing: \n",
            "['FCX', 'NFLX', 'AMD', 'MU', 'TRIP', 'EA', 'INCY', 'QRVO', 'COTY', 'SIG']\n",
            "--------------------\n",
            "Bottom Performing: \n",
            "['CHK', 'FCX', 'NEM', 'WYNN', 'SPLS', 'UAA', 'PXD', 'QRVO', 'M', 'PRGO']\n"
          ],
          "name": "stdout"
        }
      ]
    },
    {
      "cell_type": "markdown",
      "metadata": {
        "id": "X-Ul_2U2Jics",
        "colab_type": "text"
      },
      "source": [
        "## Checking\n",
        "This strategy only serves to exemplify a trading signal as it presents some problems. Let's check! :D"
      ]
    },
    {
      "cell_type": "code",
      "metadata": {
        "id": "xKAWIv0QIDaN",
        "colab_type": "code",
        "colab": {
          "base_uri": "https://localhost:8080/",
          "height": 51
        },
        "outputId": "168198ec-03c6-4bc5-9153-7ec724395261"
      },
      "source": [
        "print('Number of months: {0}\\nNumber of stocks: {1}\\n'.format(str(df_top.shape[0]), str(df_top.shape[1])))"
      ],
      "execution_count": 79,
      "outputs": [
        {
          "output_type": "stream",
          "text": [
            "Number of months: 47\n",
            "Number of stocks: 495\n"
          ],
          "name": "stdout"
        }
      ]
    },
    {
      "cell_type": "code",
      "metadata": {
        "id": "l4nWYqK4L8Rp",
        "colab_type": "code",
        "colab": {}
      },
      "source": [
        "#next steps"
      ],
      "execution_count": 0,
      "outputs": []
    }
  ]
}