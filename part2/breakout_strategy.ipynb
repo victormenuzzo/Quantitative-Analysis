{
  "nbformat": 4,
  "nbformat_minor": 0,
  "metadata": {
    "colab": {
      "name": " breakout_strategy.ipynb",
      "provenance": []
    },
    "kernelspec": {
      "name": "python3",
      "display_name": "Python 3"
    }
  },
  "cells": [
    {
      "cell_type": "markdown",
      "metadata": {
        "id": "Trngmlsm3jRk",
        "colab_type": "text"
      },
      "source": [
        "# Breakout Strategy"
      ]
    },
    {
      "cell_type": "markdown",
      "metadata": {
        "id": "v5KY_Dbw3pZk",
        "colab_type": "text"
      },
      "source": [
        "##Load the Data \\o/"
      ]
    },
    {
      "cell_type": "code",
      "metadata": {
        "id": "-Abcrl6h2X8c",
        "colab_type": "code",
        "colab": {}
      },
      "source": [
        "#if you are using google drive like me\n",
        "from google.colab import drive\n",
        "drive.mount('/content/drive/')"
      ],
      "execution_count": 0,
      "outputs": []
    },
    {
      "cell_type": "code",
      "metadata": {
        "id": "B1dfw2yK2u2Z",
        "colab_type": "code",
        "colab": {}
      },
      "source": [
        "cd \"/content/drive/My Drive/go_beyond/project/project_2\""
      ],
      "execution_count": 0,
      "outputs": []
    },
    {
      "cell_type": "code",
      "metadata": {
        "id": "TQVdTVJO2wyo",
        "colab_type": "code",
        "colab": {}
      },
      "source": [
        "import pandas as pd\n",
        "import numpy as np\n",
        "import seaborn as sns\n",
        "import matplotlib\n",
        "import matplotlib.pyplot as plt\n",
        "import math\n",
        "\n",
        "#remove pandas warning \n",
        "import pandas.plotting._converter as pandacnv\n",
        "pandacnv.register()"
      ],
      "execution_count": 0,
      "outputs": []
    },
    {
      "cell_type": "markdown",
      "metadata": {
        "id": "m9dqmxbx2zXG",
        "colab_type": "text"
      },
      "source": [
        "\n",
        "**Same data as last project**"
      ]
    },
    {
      "cell_type": "code",
      "metadata": {
        "id": "Vt5Tpq5A2xKg",
        "colab_type": "code",
        "colab": {}
      },
      "source": [
        "df = pd.read_csv('eod-quotemedia.csv', parse_dates=['date'], index_col=False)\n",
        "close = df.reset_index().pivot(index='date', columns='ticker', values='adj_close')"
      ],
      "execution_count": 0,
      "outputs": []
    }
  ]
}